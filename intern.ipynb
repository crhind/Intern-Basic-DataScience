{
 "cells": [
  {
   "cell_type": "markdown",
   "metadata": {},
   "source": [
    "# Vacation Student Notebook\n",
    "\n",
    "___Author___: Connor Rhind\n",
    "\n",
    "___Email___: connor.rhind@nexxis.com.au\n",
    "\n",
    "The point of this notebook is to give you a walk through experience of using ML on real life data. The scope of the data is to predict the success of bank loan applications."
   ]
  },
  {
   "cell_type": "markdown",
   "metadata": {},
   "source": [
    "## 1.0 - READING THE DATA"
   ]
  },
  {
   "cell_type": "code",
   "execution_count": 2,
   "metadata": {},
   "outputs": [],
   "source": [
    "#IMPORT OUR PYTHON PACKAGES NEEDED NOW\n",
    "import pandas as pd               # Pandas is the main data handling package.\n",
    "import numpy as np                # Numpy is a mathematical package.\n",
    "import sklearn as sk              # Sklearn contains all of the ML packages we will use.\n",
    "import seaborn as sb              # Seaborn is a graphing tool (Built around Matplotlib)\n",
    "import matplotlib.pyplot as plt   # Matplotlib is a graphing tool."
   ]
  },
  {
   "cell_type": "markdown",
   "metadata": {},
   "source": [
    "After importing our python packages the next stage is to simply read our data into the program.\n",
    "\n",
    "We will read in two files, our training data and our test data.\n",
    "The general rule is that your training data should make up around 75-85% of your available data and the remainder is what you use to test your \"model\" on.\n",
    "\n",
    "In this situation the training data makes up around 60% of the total data, fairly low for this situation."
   ]
  },
  {
   "cell_type": "code",
   "execution_count": 3,
   "metadata": {},
   "outputs": [
    {
     "name": "stdout",
     "output_type": "stream",
     "text": [
      "Our training data size is 614 and our test data size is 367.\n"
     ]
    }
   ],
   "source": [
    "train = pd.read_csv('train.csv')\n",
    "test = pd.read_csv('test.csv')\n",
    "print(f\"Our training data size is {train.shape[0]} and our test data size is {test.shape[0]}.\")"
   ]
  },
  {
   "cell_type": "code",
   "execution_count": 4,
   "metadata": {},
   "outputs": [
    {
     "data": {
      "text/html": [
       "<div>\n",
       "<style scoped>\n",
       "    .dataframe tbody tr th:only-of-type {\n",
       "        vertical-align: middle;\n",
       "    }\n",
       "\n",
       "    .dataframe tbody tr th {\n",
       "        vertical-align: top;\n",
       "    }\n",
       "\n",
       "    .dataframe thead th {\n",
       "        text-align: right;\n",
       "    }\n",
       "</style>\n",
       "<table border=\"1\" class=\"dataframe\">\n",
       "  <thead>\n",
       "    <tr style=\"text-align: right;\">\n",
       "      <th></th>\n",
       "      <th>Loan_ID</th>\n",
       "      <th>Gender</th>\n",
       "      <th>Married</th>\n",
       "      <th>Dependents</th>\n",
       "      <th>Education</th>\n",
       "      <th>Self_Employed</th>\n",
       "      <th>ApplicantIncome</th>\n",
       "      <th>CoapplicantIncome</th>\n",
       "      <th>LoanAmount</th>\n",
       "      <th>Loan_Amount_Term</th>\n",
       "      <th>Credit_History</th>\n",
       "      <th>Property_Area</th>\n",
       "      <th>Loan_Status</th>\n",
       "    </tr>\n",
       "  </thead>\n",
       "  <tbody>\n",
       "    <tr>\n",
       "      <th>0</th>\n",
       "      <td>LP001002</td>\n",
       "      <td>Male</td>\n",
       "      <td>No</td>\n",
       "      <td>0</td>\n",
       "      <td>Graduate</td>\n",
       "      <td>No</td>\n",
       "      <td>5849</td>\n",
       "      <td>0.0</td>\n",
       "      <td>NaN</td>\n",
       "      <td>360.0</td>\n",
       "      <td>1.0</td>\n",
       "      <td>Urban</td>\n",
       "      <td>Y</td>\n",
       "    </tr>\n",
       "  </tbody>\n",
       "</table>\n",
       "</div>"
      ],
      "text/plain": [
       "    Loan_ID Gender Married Dependents Education Self_Employed  \\\n",
       "0  LP001002   Male      No          0  Graduate            No   \n",
       "\n",
       "   ApplicantIncome  CoapplicantIncome  LoanAmount  Loan_Amount_Term  \\\n",
       "0             5849                0.0         NaN             360.0   \n",
       "\n",
       "   Credit_History Property_Area Loan_Status  \n",
       "0             1.0         Urban           Y  "
      ]
     },
     "execution_count": 4,
     "metadata": {},
     "output_type": "execute_result"
    }
   ],
   "source": [
    "train.head(1)"
   ]
  },
  {
   "cell_type": "code",
   "execution_count": 5,
   "metadata": {},
   "outputs": [
    {
     "data": {
      "text/html": [
       "<div>\n",
       "<style scoped>\n",
       "    .dataframe tbody tr th:only-of-type {\n",
       "        vertical-align: middle;\n",
       "    }\n",
       "\n",
       "    .dataframe tbody tr th {\n",
       "        vertical-align: top;\n",
       "    }\n",
       "\n",
       "    .dataframe thead th {\n",
       "        text-align: right;\n",
       "    }\n",
       "</style>\n",
       "<table border=\"1\" class=\"dataframe\">\n",
       "  <thead>\n",
       "    <tr style=\"text-align: right;\">\n",
       "      <th></th>\n",
       "      <th>Loan_ID</th>\n",
       "      <th>Gender</th>\n",
       "      <th>Married</th>\n",
       "      <th>Dependents</th>\n",
       "      <th>Education</th>\n",
       "      <th>Self_Employed</th>\n",
       "      <th>ApplicantIncome</th>\n",
       "      <th>CoapplicantIncome</th>\n",
       "      <th>LoanAmount</th>\n",
       "      <th>Loan_Amount_Term</th>\n",
       "      <th>Credit_History</th>\n",
       "      <th>Property_Area</th>\n",
       "    </tr>\n",
       "  </thead>\n",
       "  <tbody>\n",
       "    <tr>\n",
       "      <th>0</th>\n",
       "      <td>LP001015</td>\n",
       "      <td>Male</td>\n",
       "      <td>Yes</td>\n",
       "      <td>0</td>\n",
       "      <td>Graduate</td>\n",
       "      <td>No</td>\n",
       "      <td>5720</td>\n",
       "      <td>0</td>\n",
       "      <td>110.0</td>\n",
       "      <td>360.0</td>\n",
       "      <td>1.0</td>\n",
       "      <td>Urban</td>\n",
       "    </tr>\n",
       "  </tbody>\n",
       "</table>\n",
       "</div>"
      ],
      "text/plain": [
       "    Loan_ID Gender Married Dependents Education Self_Employed  \\\n",
       "0  LP001015   Male     Yes          0  Graduate            No   \n",
       "\n",
       "   ApplicantIncome  CoapplicantIncome  LoanAmount  Loan_Amount_Term  \\\n",
       "0             5720                  0       110.0             360.0   \n",
       "\n",
       "   Credit_History Property_Area  \n",
       "0             1.0         Urban  "
      ]
     },
     "execution_count": 5,
     "metadata": {},
     "output_type": "execute_result"
    }
   ],
   "source": [
    "test.head(1)"
   ]
  },
  {
   "cell_type": "markdown",
   "metadata": {},
   "source": [
    "The first thing you will notice is that our two data sets don't have equal dimensions, the training set has an extra column (Loan_Status). This column is what we are aiming to predict with our model."
   ]
  },
  {
   "cell_type": "markdown",
   "metadata": {},
   "source": [
    "\n",
    "\n",
    "Something that we might do to try to do understand the data we have is to look through and compare any features that we believe may be a fairly good indicator of a yes or no result on the loan. Generally a data scientist will work with a subject matter expert to use their domain knowledge to help understand what is important.\n",
    "\n",
    "In this case some of the things we will check out are gender, incomes and self-employment to see if there are any clear correlations."
   ]
  },
  {
   "cell_type": "code",
   "execution_count": 9,
   "metadata": {},
   "outputs": [
    {
     "name": "stderr",
     "output_type": "stream",
     "text": [
      "/home/crhind/.virtualenvs/intern-nb/lib/python3.6/site-packages/seaborn/_decorators.py:43: FutureWarning: Pass the following variable as a keyword arg: x. From version 0.12, the only valid positional argument will be `data`, and passing other arguments without an explicit keyword will result in an error or misinterpretation.\n",
      "  FutureWarning\n"
     ]
    },
    {
     "data": {
      "text/plain": [
       "<AxesSubplot:xlabel='Gender', ylabel='count'>"
      ]
     },
     "execution_count": 9,
     "metadata": {},
     "output_type": "execute_result"
    },
    {
     "data": {
      "image/png": "[encoded data removed]",
      "text/plain": [
       "<Figure size 432x288 with 1 Axes>"
      ]
     },
     "metadata": {
      "needs_background": "light"
     },
     "output_type": "display_data"
    }
   ],
   "source": [
    "# Checking if there is any indication that being a gender results in a particular outcome for the loan\n",
    "sb.countplot(train['Gender'],hue=train['Loan_Status'])"
   ]
  },
  {
   "cell_type": "markdown",
   "metadata": {},
   "source": [
    "What we can notice from the gender plot is that there are a lot more men applying for loans but the ratio of getting the loan seems fairly equal."
   ]
  },
  {
   "cell_type": "code",
   "execution_count": 29,
   "metadata": {},
   "outputs": [
    {
     "name": "stderr",
     "output_type": "stream",
     "text": [
      "/home/crhind/.virtualenvs/intern-nb/lib/python3.6/site-packages/seaborn/_decorators.py:43: FutureWarning: Pass the following variable as a keyword arg: x. From version 0.12, the only valid positional argument will be `data`, and passing other arguments without an explicit keyword will result in an error or misinterpretation.\n",
      "  FutureWarning\n"
     ]
    },
    {
     "data": {
      "text/plain": [
       "<AxesSubplot:xlabel='Self_Employed', ylabel='count'>"
      ]
     },
     "execution_count": 29,
     "metadata": {},
     "output_type": "execute_result"
    },
    {
     "data": {
      "image/png": "[encoded data removed]",
      "text/plain": [
       "<Figure size 432x288 with 1 Axes>"
      ]
     },
     "metadata": {
      "needs_background": "light"
     },
     "output_type": "display_data"
    }
   ],
   "source": [
    "# Checking if there is any indication that self employment results in a particular outcome for the loan\n",
    "sb.countplot(train['Self_Employed'], hue=train[\"Loan_Status\"])"
   ]
  },
  {
   "cell_type": "markdown",
   "metadata": {},
   "source": [
    "From the self-employment plot we can see again there is a lot more people who arent self-employed (work for someone else) applying for loans than people who are self employed, which makes sense if you think about it. Saying that the ratio of getitng the loan vs getting rejected is fairly consistent between them both."
   ]
  },
  {
   "cell_type": "code",
   "execution_count": 25,
   "metadata": {},
   "outputs": [
    {
     "data": {
      "text/plain": [
       "[<matplotlib.lines.Line2D at 0x7f084afbab70>]"
      ]
     },
     "execution_count": 25,
     "metadata": {},
     "output_type": "execute_result"
    },
    {
     "data": {
      "image/png": "[encoded data removed]",
      "text/plain": [
       "<Figure size 432x288 with 1 Axes>"
      ]
     },
     "metadata": {
      "needs_background": "light"
     },
     "output_type": "display_data"
    }
   ],
   "source": [
    "# Checking if there is a clear range of values for incomes that result in a accept loan\n",
    "plt.plot(train[train['Loan_Status'] == 'Y']['ApplicantIncome'])"
   ]
  },
  {
   "cell_type": "code",
   "execution_count": 32,
   "metadata": {},
   "outputs": [
    {
     "data": {
      "text/plain": [
       "[<matplotlib.lines.Line2D at 0x7f084b487518>]"
      ]
     },
     "execution_count": 32,
     "metadata": {},
     "output_type": "execute_result"
    },
    {
     "data": {
      "image/png": "[encoded data removed]",
      "text/plain": [
       "<Figure size 432x288 with 1 Axes>"
      ]
     },
     "metadata": {
      "needs_background": "light"
     },
     "output_type": "display_data"
    }
   ],
   "source": [
    "# Checking if there is a clear range of values for incomes that result in a rejected loan\n",
    "plt.plot(train[train['Loan_Status'] == 'N']['ApplicantIncome'])"
   ]
  },
  {
   "cell_type": "markdown",
   "metadata": {},
   "source": [
    "Using the above to graphs we try to see if there is a range of incomes that guarentees or at least is a very good indication that a loan would be approved, but in this dataset there isn't. Can you draw any conclusions from this?"
   ]
  },
  {
   "cell_type": "code",
   "execution_count": 47,
   "metadata": {},
   "outputs": [
    {
     "data": {
      "text/plain": [
       "<AxesSubplot:xlabel='ApplicantIncome', ylabel='LoanAmount'>"
      ]
     },
     "execution_count": 47,
     "metadata": {},
     "output_type": "execute_result"
    },
    {
     "data": {
      "image/png": "[encoded data removed]",
      "text/plain": [
       "<Figure size 432x288 with 1 Axes>"
      ]
     },
     "metadata": {
      "needs_background": "light"
     },
     "output_type": "display_data"
    }
   ],
   "source": [
    "# Checking out if there is a relation between income, loan amount and the outcome of the loan.\n",
    "sb.scatterplot(data=train, x='ApplicantIncome', y='LoanAmount', hue='Loan_Status')"
   ]
  },
  {
   "cell_type": "markdown",
   "metadata": {},
   "source": [
    "Something that we can do is plot two different categories against one another to see if there is any nice split that we can capitalise on. Here I have plotted the loan amount against the applicant income because I would have assumed that that would be a good indicator but as you can tell there is no clear split. Something else we might try is feature engineering a ratio of the loan amount over the income to give to our models. "
   ]
  },
  {
   "cell_type": "code",
   "execution_count": 68,
   "metadata": {},
   "outputs": [],
   "source": [
    "#Creating a new feature called the loan index which is the ratio of the loan amount over the applicant income.\n",
    "train['LoanIndex'] = train['LoanAmount']/train['ApplicantIncome']\n",
    "test['LoanIndex'] = test['LoanAmount']/test['ApplicantIncome']"
   ]
  },
  {
   "cell_type": "markdown",
   "metadata": {},
   "source": [
    "## 2.0 - CLEAN THE DATA"
   ]
  },
  {
   "cell_type": "markdown",
   "metadata": {},
   "source": [
    "Our next step is to \"clean\" the data - it is really common that datasets will have entries with values that don't make sense or are just missing completely.\n",
    "For the data that doesnt make sense (such as having a negative value for a persons income) you really have to rely on your domain knowledge to rationalise what is a \"reasonable\" value. However for missing values we can do a quick check to identify the entries with missing values.\n",
    "\n",
    "There are multiple ways of handling missing values. The most common are to infill and remove. Infilling involves taking some sort of statistical approach to approximate what the data should be - a simple example for numerical data is to take the mean (average) of the other values for the missing entry value. We generally will only infill when data is very scarce and we need as much as we can get. \n",
    "In this walkthrough we are simply going to drop entries with missing values."
   ]
  },
  {
   "cell_type": "code",
   "execution_count": 112,
   "metadata": {},
   "outputs": [
    {
     "name": "stdout",
     "output_type": "stream",
     "text": [
      "Number of data points not useable: 134 out of 614\n",
      "Percentage of data lost : 21.824104234527688%\n"
     ]
    }
   ],
   "source": [
    "bad_traindata = train[train.isnull().any(axis=1)]\n",
    "print(f\"Number of data points not useable: {bad_traindata.shape[0]} out of {train.shape[0]}\\nPercentage of data lost : {(bad_traindata.shape[0]/train.shape[0])*100}%\" )\n",
    "train.loc[train['ApplicantIncome'] == 0, 'LoanIndex'] = 0\n",
    "\n",
    "train_clean = train.dropna()"
   ]
  },
  {
   "cell_type": "code",
   "execution_count": 113,
   "metadata": {},
   "outputs": [
    {
     "name": "stdout",
     "output_type": "stream",
     "text": [
      "Number of data points not useable: 78 out of 367\n",
      "Percentage of data lost : 21.25340599455041%\n"
     ]
    }
   ],
   "source": [
    "bad_testdata = test[test.isnull().any(axis=1)]\n",
    "print(f\"Number of data points not useable: {bad_testdata.shape[0]} out of {test.shape[0]}\\nPercentage of data lost : {(bad_testdata.shape[0]/test.shape[0])*100}%\" )\n",
    "test.loc[test['ApplicantIncome'] == 0, 'LoanIndex'] = 0\n",
    "\n",
    "test_clean = test.dropna()"
   ]
  },
  {
   "cell_type": "code",
   "execution_count": 114,
   "metadata": {},
   "outputs": [
    {
     "data": {
      "text/html": [
       "<div>\n",
       "<style scoped>\n",
       "    .dataframe tbody tr th:only-of-type {\n",
       "        vertical-align: middle;\n",
       "    }\n",
       "\n",
       "    .dataframe tbody tr th {\n",
       "        vertical-align: top;\n",
       "    }\n",
       "\n",
       "    .dataframe thead th {\n",
       "        text-align: right;\n",
       "    }\n",
       "</style>\n",
       "<table border=\"1\" class=\"dataframe\">\n",
       "  <thead>\n",
       "    <tr style=\"text-align: right;\">\n",
       "      <th></th>\n",
       "      <th>Loan_ID</th>\n",
       "      <th>Gender</th>\n",
       "      <th>Married</th>\n",
       "      <th>Dependents</th>\n",
       "      <th>Education</th>\n",
       "      <th>Self_Employed</th>\n",
       "      <th>ApplicantIncome</th>\n",
       "      <th>CoapplicantIncome</th>\n",
       "      <th>LoanAmount</th>\n",
       "      <th>Loan_Amount_Term</th>\n",
       "      <th>Credit_History</th>\n",
       "      <th>Property_Area</th>\n",
       "      <th>Loan_Status</th>\n",
       "      <th>LoanIndex</th>\n",
       "    </tr>\n",
       "  </thead>\n",
       "  <tbody>\n",
       "    <tr>\n",
       "      <th>1</th>\n",
       "      <td>LP001003</td>\n",
       "      <td>Male</td>\n",
       "      <td>Yes</td>\n",
       "      <td>1</td>\n",
       "      <td>Graduate</td>\n",
       "      <td>No</td>\n",
       "      <td>4583</td>\n",
       "      <td>1508.0</td>\n",
       "      <td>128.0</td>\n",
       "      <td>360.0</td>\n",
       "      <td>1.0</td>\n",
       "      <td>Rural</td>\n",
       "      <td>N</td>\n",
       "      <td>0.027929</td>\n",
       "    </tr>\n",
       "    <tr>\n",
       "      <th>2</th>\n",
       "      <td>LP001005</td>\n",
       "      <td>Male</td>\n",
       "      <td>Yes</td>\n",
       "      <td>0</td>\n",
       "      <td>Graduate</td>\n",
       "      <td>Yes</td>\n",
       "      <td>3000</td>\n",
       "      <td>0.0</td>\n",
       "      <td>66.0</td>\n",
       "      <td>360.0</td>\n",
       "      <td>1.0</td>\n",
       "      <td>Urban</td>\n",
       "      <td>Y</td>\n",
       "      <td>0.022000</td>\n",
       "    </tr>\n",
       "    <tr>\n",
       "      <th>3</th>\n",
       "      <td>LP001006</td>\n",
       "      <td>Male</td>\n",
       "      <td>Yes</td>\n",
       "      <td>0</td>\n",
       "      <td>Not Graduate</td>\n",
       "      <td>No</td>\n",
       "      <td>2583</td>\n",
       "      <td>2358.0</td>\n",
       "      <td>120.0</td>\n",
       "      <td>360.0</td>\n",
       "      <td>1.0</td>\n",
       "      <td>Urban</td>\n",
       "      <td>Y</td>\n",
       "      <td>0.046458</td>\n",
       "    </tr>\n",
       "    <tr>\n",
       "      <th>4</th>\n",
       "      <td>LP001008</td>\n",
       "      <td>Male</td>\n",
       "      <td>No</td>\n",
       "      <td>0</td>\n",
       "      <td>Graduate</td>\n",
       "      <td>No</td>\n",
       "      <td>6000</td>\n",
       "      <td>0.0</td>\n",
       "      <td>141.0</td>\n",
       "      <td>360.0</td>\n",
       "      <td>1.0</td>\n",
       "      <td>Urban</td>\n",
       "      <td>Y</td>\n",
       "      <td>0.023500</td>\n",
       "    </tr>\n",
       "    <tr>\n",
       "      <th>5</th>\n",
       "      <td>LP001011</td>\n",
       "      <td>Male</td>\n",
       "      <td>Yes</td>\n",
       "      <td>2</td>\n",
       "      <td>Graduate</td>\n",
       "      <td>Yes</td>\n",
       "      <td>5417</td>\n",
       "      <td>4196.0</td>\n",
       "      <td>267.0</td>\n",
       "      <td>360.0</td>\n",
       "      <td>1.0</td>\n",
       "      <td>Urban</td>\n",
       "      <td>Y</td>\n",
       "      <td>0.049289</td>\n",
       "    </tr>\n",
       "  </tbody>\n",
       "</table>\n",
       "</div>"
      ],
      "text/plain": [
       "    Loan_ID Gender Married Dependents     Education Self_Employed  \\\n",
       "1  LP001003   Male     Yes          1      Graduate            No   \n",
       "2  LP001005   Male     Yes          0      Graduate           Yes   \n",
       "3  LP001006   Male     Yes          0  Not Graduate            No   \n",
       "4  LP001008   Male      No          0      Graduate            No   \n",
       "5  LP001011   Male     Yes          2      Graduate           Yes   \n",
       "\n",
       "   ApplicantIncome  CoapplicantIncome  LoanAmount  Loan_Amount_Term  \\\n",
       "1             4583             1508.0       128.0             360.0   \n",
       "2             3000                0.0        66.0             360.0   \n",
       "3             2583             2358.0       120.0             360.0   \n",
       "4             6000                0.0       141.0             360.0   \n",
       "5             5417             4196.0       267.0             360.0   \n",
       "\n",
       "   Credit_History Property_Area Loan_Status  LoanIndex  \n",
       "1             1.0         Rural           N   0.027929  \n",
       "2             1.0         Urban           Y   0.022000  \n",
       "3             1.0         Urban           Y   0.046458  \n",
       "4             1.0         Urban           Y   0.023500  \n",
       "5             1.0         Urban           Y   0.049289  "
      ]
     },
     "execution_count": 114,
     "metadata": {},
     "output_type": "execute_result"
    }
   ],
   "source": [
    "train_clean.head()"
   ]
  },
  {
   "cell_type": "markdown",
   "metadata": {},
   "source": [
    "## PRE-PROCESSING THE DATA"
   ]
  },
  {
   "cell_type": "markdown",
   "metadata": {},
   "source": [
    "The next stage is pre-processing, where we alter the data to put it in a form that the ML algorithms can accept.\n",
    "\n",
    "Some of the changes will include flattening the numerical data (such as incomes) to be between 0 and 1.\n",
    "\n",
    "Another major change which is sometimes hard to wrap your head around is coverting categorical data (usually strings or integers) into a meaningful form that the ML algorithms can use. So for this we don't squash the data between 0 and 1 but instead break the single category into _n_ categories with a 0 or 1 value in the corresponding correct category.\n",
    "\n",
    "As an example we have the categorical data _\"Property_Area\"_ which could have the values: _Rural_, _Semiurban_ or _Urban_. As it stands at the moment we can't pass those values into the models, so instead what we do is we break the category up into 3 categories known as dummy values: _\"Property_Area_Rural\"_, _\"Property_Area_Semiurban\"_, _\"Property_Area_Urban\"_. Now each entry will have a value of 1 in one of the three new categories and the others will be 0, indicating which property area the entry belongs to.\n",
    "\n",
    "The other thing that we have to do is drop data that we can't use - data that isn't numerical or categorical and cannot be converted into a meaningful form, such as _Loan_ID_"
   ]
  },
  {
   "cell_type": "code",
   "execution_count": 115,
   "metadata": {},
   "outputs": [],
   "source": [
    "from sklearn.preprocessing import MinMaxScaler\n",
    "seed = 23    # A seed is the value used to ensure constent \"randomness\"\n",
    "\n",
    "categorical_columns = [\"Gender\", \"Dependents\", \"Education\", \"Property_Area\"]\n",
    "# Convert the categorical data into a numerical format while not loosing the underlying categorical meaning.\n",
    "train_clean_encoded = pd.get_dummies(train_clean, columns=categorical_columns)\n",
    "test_clean_encoded = pd.get_dummies(test_clean, columns=categorical_columns)\n",
    "\n",
    "# Convert the boolean values (true/false, yes/no) into a 1/0 representation.\n",
    "train_clean_encoded['Loan_Status'].replace({'Y':1, 'N':0}, inplace=True)\n",
    "train_clean_encoded['Married'].replace({'Yes':1, 'No':0}, inplace=True)\n",
    "train_clean_encoded['Self_Employed'].replace({'Yes':1, 'No':0}, inplace=True)"
   ]
  },
  {
   "cell_type": "code",
   "execution_count": 116,
   "metadata": {},
   "outputs": [
    {
     "data": {
      "text/html": [
       "<div>\n",
       "<style scoped>\n",
       "    .dataframe tbody tr th:only-of-type {\n",
       "        vertical-align: middle;\n",
       "    }\n",
       "\n",
       "    .dataframe tbody tr th {\n",
       "        vertical-align: top;\n",
       "    }\n",
       "\n",
       "    .dataframe thead th {\n",
       "        text-align: right;\n",
       "    }\n",
       "</style>\n",
       "<table border=\"1\" class=\"dataframe\">\n",
       "  <thead>\n",
       "    <tr style=\"text-align: right;\">\n",
       "      <th></th>\n",
       "      <th>Loan_ID</th>\n",
       "      <th>Gender</th>\n",
       "      <th>Married</th>\n",
       "      <th>Dependents</th>\n",
       "      <th>Education</th>\n",
       "      <th>Self_Employed</th>\n",
       "      <th>ApplicantIncome</th>\n",
       "      <th>CoapplicantIncome</th>\n",
       "      <th>LoanAmount</th>\n",
       "      <th>Loan_Amount_Term</th>\n",
       "      <th>Credit_History</th>\n",
       "      <th>Property_Area</th>\n",
       "      <th>Loan_Status</th>\n",
       "      <th>LoanIndex</th>\n",
       "    </tr>\n",
       "  </thead>\n",
       "  <tbody>\n",
       "  </tbody>\n",
       "</table>\n",
       "</div>"
      ],
      "text/plain": [
       "Empty DataFrame\n",
       "Columns: [Loan_ID, Gender, Married, Dependents, Education, Self_Employed, ApplicantIncome, CoapplicantIncome, LoanAmount, Loan_Amount_Term, Credit_History, Property_Area, Loan_Status, LoanIndex]\n",
       "Index: []"
      ]
     },
     "execution_count": 116,
     "metadata": {},
     "output_type": "execute_result"
    }
   ],
   "source": [
    "train[train[\"LoanIndex\"] == np.inf]"
   ]
  },
  {
   "cell_type": "code",
   "execution_count": 117,
   "metadata": {},
   "outputs": [
    {
     "data": {
      "text/html": [
       "<div>\n",
       "<style scoped>\n",
       "    .dataframe tbody tr th:only-of-type {\n",
       "        vertical-align: middle;\n",
       "    }\n",
       "\n",
       "    .dataframe tbody tr th {\n",
       "        vertical-align: top;\n",
       "    }\n",
       "\n",
       "    .dataframe thead th {\n",
       "        text-align: right;\n",
       "    }\n",
       "</style>\n",
       "<table border=\"1\" class=\"dataframe\">\n",
       "  <thead>\n",
       "    <tr style=\"text-align: right;\">\n",
       "      <th></th>\n",
       "      <th>Loan_ID</th>\n",
       "      <th>Married</th>\n",
       "      <th>Self_Employed</th>\n",
       "      <th>ApplicantIncome</th>\n",
       "      <th>CoapplicantIncome</th>\n",
       "      <th>LoanAmount</th>\n",
       "      <th>Loan_Amount_Term</th>\n",
       "      <th>Credit_History</th>\n",
       "      <th>Loan_Status</th>\n",
       "      <th>LoanIndex</th>\n",
       "      <th>...</th>\n",
       "      <th>Gender_Male</th>\n",
       "      <th>Dependents_0</th>\n",
       "      <th>Dependents_1</th>\n",
       "      <th>Dependents_2</th>\n",
       "      <th>Dependents_3+</th>\n",
       "      <th>Education_Graduate</th>\n",
       "      <th>Education_Not Graduate</th>\n",
       "      <th>Property_Area_Rural</th>\n",
       "      <th>Property_Area_Semiurban</th>\n",
       "      <th>Property_Area_Urban</th>\n",
       "    </tr>\n",
       "  </thead>\n",
       "  <tbody>\n",
       "    <tr>\n",
       "      <th>1</th>\n",
       "      <td>LP001003</td>\n",
       "      <td>1</td>\n",
       "      <td>0</td>\n",
       "      <td>0.054830</td>\n",
       "      <td>0.044567</td>\n",
       "      <td>0.201354</td>\n",
       "      <td>0.72973</td>\n",
       "      <td>1.0</td>\n",
       "      <td>0</td>\n",
       "      <td>0.027774</td>\n",
       "      <td>...</td>\n",
       "      <td>1</td>\n",
       "      <td>0</td>\n",
       "      <td>1</td>\n",
       "      <td>0</td>\n",
       "      <td>0</td>\n",
       "      <td>1</td>\n",
       "      <td>0</td>\n",
       "      <td>1</td>\n",
       "      <td>0</td>\n",
       "      <td>0</td>\n",
       "    </tr>\n",
       "    <tr>\n",
       "      <th>2</th>\n",
       "      <td>LP001005</td>\n",
       "      <td>1</td>\n",
       "      <td>1</td>\n",
       "      <td>0.035250</td>\n",
       "      <td>0.000000</td>\n",
       "      <td>0.096447</td>\n",
       "      <td>0.72973</td>\n",
       "      <td>1.0</td>\n",
       "      <td>1</td>\n",
       "      <td>0.021164</td>\n",
       "      <td>...</td>\n",
       "      <td>1</td>\n",
       "      <td>1</td>\n",
       "      <td>0</td>\n",
       "      <td>0</td>\n",
       "      <td>0</td>\n",
       "      <td>1</td>\n",
       "      <td>0</td>\n",
       "      <td>0</td>\n",
       "      <td>0</td>\n",
       "      <td>1</td>\n",
       "    </tr>\n",
       "    <tr>\n",
       "      <th>3</th>\n",
       "      <td>LP001006</td>\n",
       "      <td>1</td>\n",
       "      <td>0</td>\n",
       "      <td>0.030093</td>\n",
       "      <td>0.069687</td>\n",
       "      <td>0.187817</td>\n",
       "      <td>0.72973</td>\n",
       "      <td>1.0</td>\n",
       "      <td>1</td>\n",
       "      <td>0.048431</td>\n",
       "      <td>...</td>\n",
       "      <td>1</td>\n",
       "      <td>1</td>\n",
       "      <td>0</td>\n",
       "      <td>0</td>\n",
       "      <td>0</td>\n",
       "      <td>0</td>\n",
       "      <td>1</td>\n",
       "      <td>0</td>\n",
       "      <td>0</td>\n",
       "      <td>1</td>\n",
       "    </tr>\n",
       "  </tbody>\n",
       "</table>\n",
       "<p>3 rows × 21 columns</p>\n",
       "</div>"
      ],
      "text/plain": [
       "    Loan_ID  Married  Self_Employed  ApplicantIncome  CoapplicantIncome  \\\n",
       "1  LP001003        1              0         0.054830           0.044567   \n",
       "2  LP001005        1              1         0.035250           0.000000   \n",
       "3  LP001006        1              0         0.030093           0.069687   \n",
       "\n",
       "   LoanAmount  Loan_Amount_Term  Credit_History  Loan_Status  LoanIndex  ...  \\\n",
       "1    0.201354           0.72973             1.0            0   0.027774  ...   \n",
       "2    0.096447           0.72973             1.0            1   0.021164  ...   \n",
       "3    0.187817           0.72973             1.0            1   0.048431  ...   \n",
       "\n",
       "   Gender_Male  Dependents_0  Dependents_1  Dependents_2  Dependents_3+  \\\n",
       "1            1             0             1             0              0   \n",
       "2            1             1             0             0              0   \n",
       "3            1             1             0             0              0   \n",
       "\n",
       "   Education_Graduate  Education_Not Graduate  Property_Area_Rural  \\\n",
       "1                   1                       0                    1   \n",
       "2                   1                       0                    0   \n",
       "3                   0                       1                    0   \n",
       "\n",
       "   Property_Area_Semiurban  Property_Area_Urban  \n",
       "1                        0                    0  \n",
       "2                        0                    1  \n",
       "3                        0                    1  \n",
       "\n",
       "[3 rows x 21 columns]"
      ]
     },
     "execution_count": 117,
     "metadata": {},
     "output_type": "execute_result"
    }
   ],
   "source": [
    "numerical_columns = ['LoanIndex', 'ApplicantIncome', 'CoapplicantIncome', 'CoapplicantIncome', 'LoanAmount', 'Loan_Amount_Term', 'Credit_History']\n",
    "train_clean_encoded_scaled = train_clean_encoded.copy()\n",
    "test_clean_encoded_scaled = test_clean_encoded.copy()\n",
    "\n",
    "scaler = MinMaxScaler()\n",
    "scaler.fit(train_clean_encoded[numerical_columns])\n",
    "# Squash the numerical values (such as income) between 0 and 1\n",
    "train_clean_encoded_scaled[numerical_columns] = scaler.transform(train_clean_encoded[numerical_columns])\n",
    "test_clean_encoded_scaled[numerical_columns] = scaler.transform(test_clean_encoded[numerical_columns])\n",
    "\n",
    "train_clean_encoded_scaled.head(3)"
   ]
  },
  {
   "cell_type": "markdown",
   "metadata": {},
   "source": [
    "Its always good to have an understanding of what your data is looking like. Using the describe() function, we get a quick little summary of what the data looks like at this point in our pipeline."
   ]
  },
  {
   "cell_type": "code",
   "execution_count": 118,
   "metadata": {},
   "outputs": [
    {
     "data": {
      "text/html": [
       "<div>\n",
       "<style scoped>\n",
       "    .dataframe tbody tr th:only-of-type {\n",
       "        vertical-align: middle;\n",
       "    }\n",
       "\n",
       "    .dataframe tbody tr th {\n",
       "        vertical-align: top;\n",
       "    }\n",
       "\n",
       "    .dataframe thead th {\n",
       "        text-align: right;\n",
       "    }\n",
       "</style>\n",
       "<table border=\"1\" class=\"dataframe\">\n",
       "  <thead>\n",
       "    <tr style=\"text-align: right;\">\n",
       "      <th></th>\n",
       "      <th>Married</th>\n",
       "      <th>Self_Employed</th>\n",
       "      <th>ApplicantIncome</th>\n",
       "      <th>CoapplicantIncome</th>\n",
       "      <th>LoanAmount</th>\n",
       "      <th>Loan_Amount_Term</th>\n",
       "      <th>Credit_History</th>\n",
       "      <th>Loan_Status</th>\n",
       "      <th>LoanIndex</th>\n",
       "      <th>Gender_Female</th>\n",
       "      <th>Gender_Male</th>\n",
       "      <th>Dependents_0</th>\n",
       "      <th>Dependents_1</th>\n",
       "      <th>Dependents_2</th>\n",
       "      <th>Dependents_3+</th>\n",
       "      <th>Education_Graduate</th>\n",
       "      <th>Education_Not Graduate</th>\n",
       "      <th>Property_Area_Rural</th>\n",
       "      <th>Property_Area_Semiurban</th>\n",
       "      <th>Property_Area_Urban</th>\n",
       "    </tr>\n",
       "  </thead>\n",
       "  <tbody>\n",
       "    <tr>\n",
       "      <th>count</th>\n",
       "      <td>480.000000</td>\n",
       "      <td>480.000000</td>\n",
       "      <td>480.000000</td>\n",
       "      <td>480.000000</td>\n",
       "      <td>480.000000</td>\n",
       "      <td>480.000000</td>\n",
       "      <td>480.000000</td>\n",
       "      <td>480.000000</td>\n",
       "      <td>480.000000</td>\n",
       "      <td>480.000000</td>\n",
       "      <td>480.000000</td>\n",
       "      <td>480.000000</td>\n",
       "      <td>480.000000</td>\n",
       "      <td>480.000000</td>\n",
       "      <td>480.000000</td>\n",
       "      <td>480.000000</td>\n",
       "      <td>480.000000</td>\n",
       "      <td>480.000000</td>\n",
       "      <td>480.000000</td>\n",
       "      <td>480.000000</td>\n",
       "    </tr>\n",
       "    <tr>\n",
       "      <th>mean</th>\n",
       "      <td>0.647917</td>\n",
       "      <td>0.137500</td>\n",
       "      <td>0.064493</td>\n",
       "      <td>0.046727</td>\n",
       "      <td>0.229671</td>\n",
       "      <td>0.689302</td>\n",
       "      <td>0.854167</td>\n",
       "      <td>0.691667</td>\n",
       "      <td>0.036814</td>\n",
       "      <td>0.179167</td>\n",
       "      <td>0.820833</td>\n",
       "      <td>0.570833</td>\n",
       "      <td>0.166667</td>\n",
       "      <td>0.177083</td>\n",
       "      <td>0.085417</td>\n",
       "      <td>0.797917</td>\n",
       "      <td>0.202083</td>\n",
       "      <td>0.289583</td>\n",
       "      <td>0.397917</td>\n",
       "      <td>0.312500</td>\n",
       "    </tr>\n",
       "    <tr>\n",
       "      <th>std</th>\n",
       "      <td>0.478118</td>\n",
       "      <td>0.344734</td>\n",
       "      <td>0.070108</td>\n",
       "      <td>0.077362</td>\n",
       "      <td>0.136224</td>\n",
       "      <td>0.146875</td>\n",
       "      <td>0.353307</td>\n",
       "      <td>0.462287</td>\n",
       "      <td>0.048792</td>\n",
       "      <td>0.383892</td>\n",
       "      <td>0.383892</td>\n",
       "      <td>0.495474</td>\n",
       "      <td>0.373067</td>\n",
       "      <td>0.382137</td>\n",
       "      <td>0.279792</td>\n",
       "      <td>0.401973</td>\n",
       "      <td>0.401973</td>\n",
       "      <td>0.454042</td>\n",
       "      <td>0.489979</td>\n",
       "      <td>0.463996</td>\n",
       "    </tr>\n",
       "    <tr>\n",
       "      <th>min</th>\n",
       "      <td>0.000000</td>\n",
       "      <td>0.000000</td>\n",
       "      <td>0.000000</td>\n",
       "      <td>0.000000</td>\n",
       "      <td>0.000000</td>\n",
       "      <td>0.000000</td>\n",
       "      <td>0.000000</td>\n",
       "      <td>0.000000</td>\n",
       "      <td>0.000000</td>\n",
       "      <td>0.000000</td>\n",
       "      <td>0.000000</td>\n",
       "      <td>0.000000</td>\n",
       "      <td>0.000000</td>\n",
       "      <td>0.000000</td>\n",
       "      <td>0.000000</td>\n",
       "      <td>0.000000</td>\n",
       "      <td>0.000000</td>\n",
       "      <td>0.000000</td>\n",
       "      <td>0.000000</td>\n",
       "      <td>0.000000</td>\n",
       "    </tr>\n",
       "    <tr>\n",
       "      <th>25%</th>\n",
       "      <td>0.000000</td>\n",
       "      <td>0.000000</td>\n",
       "      <td>0.033998</td>\n",
       "      <td>0.000000</td>\n",
       "      <td>0.153976</td>\n",
       "      <td>0.729730</td>\n",
       "      <td>1.000000</td>\n",
       "      <td>0.000000</td>\n",
       "      <td>0.022343</td>\n",
       "      <td>0.000000</td>\n",
       "      <td>1.000000</td>\n",
       "      <td>0.000000</td>\n",
       "      <td>0.000000</td>\n",
       "      <td>0.000000</td>\n",
       "      <td>0.000000</td>\n",
       "      <td>1.000000</td>\n",
       "      <td>0.000000</td>\n",
       "      <td>0.000000</td>\n",
       "      <td>0.000000</td>\n",
       "      <td>0.000000</td>\n",
       "    </tr>\n",
       "    <tr>\n",
       "      <th>50%</th>\n",
       "      <td>1.000000</td>\n",
       "      <td>0.000000</td>\n",
       "      <td>0.045875</td>\n",
       "      <td>0.032051</td>\n",
       "      <td>0.201354</td>\n",
       "      <td>0.729730</td>\n",
       "      <td>1.000000</td>\n",
       "      <td>1.000000</td>\n",
       "      <td>0.030637</td>\n",
       "      <td>0.000000</td>\n",
       "      <td>1.000000</td>\n",
       "      <td>1.000000</td>\n",
       "      <td>0.000000</td>\n",
       "      <td>0.000000</td>\n",
       "      <td>0.000000</td>\n",
       "      <td>1.000000</td>\n",
       "      <td>0.000000</td>\n",
       "      <td>0.000000</td>\n",
       "      <td>0.000000</td>\n",
       "      <td>0.000000</td>\n",
       "    </tr>\n",
       "    <tr>\n",
       "      <th>75%</th>\n",
       "      <td>1.000000</td>\n",
       "      <td>0.000000</td>\n",
       "      <td>0.070532</td>\n",
       "      <td>0.066591</td>\n",
       "      <td>0.272420</td>\n",
       "      <td>0.729730</td>\n",
       "      <td>1.000000</td>\n",
       "      <td>1.000000</td>\n",
       "      <td>0.044146</td>\n",
       "      <td>0.000000</td>\n",
       "      <td>1.000000</td>\n",
       "      <td>1.000000</td>\n",
       "      <td>0.000000</td>\n",
       "      <td>0.000000</td>\n",
       "      <td>0.000000</td>\n",
       "      <td>1.000000</td>\n",
       "      <td>0.000000</td>\n",
       "      <td>1.000000</td>\n",
       "      <td>1.000000</td>\n",
       "      <td>1.000000</td>\n",
       "    </tr>\n",
       "    <tr>\n",
       "      <th>max</th>\n",
       "      <td>1.000000</td>\n",
       "      <td>1.000000</td>\n",
       "      <td>1.000000</td>\n",
       "      <td>1.000000</td>\n",
       "      <td>1.000000</td>\n",
       "      <td>1.000000</td>\n",
       "      <td>1.000000</td>\n",
       "      <td>1.000000</td>\n",
       "      <td>1.000000</td>\n",
       "      <td>1.000000</td>\n",
       "      <td>1.000000</td>\n",
       "      <td>1.000000</td>\n",
       "      <td>1.000000</td>\n",
       "      <td>1.000000</td>\n",
       "      <td>1.000000</td>\n",
       "      <td>1.000000</td>\n",
       "      <td>1.000000</td>\n",
       "      <td>1.000000</td>\n",
       "      <td>1.000000</td>\n",
       "      <td>1.000000</td>\n",
       "    </tr>\n",
       "  </tbody>\n",
       "</table>\n",
       "</div>"
      ],
      "text/plain": [
       "          Married  Self_Employed  ApplicantIncome  CoapplicantIncome  \\\n",
       "count  480.000000     480.000000       480.000000         480.000000   \n",
       "mean     0.647917       0.137500         0.064493           0.046727   \n",
       "std      0.478118       0.344734         0.070108           0.077362   \n",
       "min      0.000000       0.000000         0.000000           0.000000   \n",
       "25%      0.000000       0.000000         0.033998           0.000000   \n",
       "50%      1.000000       0.000000         0.045875           0.032051   \n",
       "75%      1.000000       0.000000         0.070532           0.066591   \n",
       "max      1.000000       1.000000         1.000000           1.000000   \n",
       "\n",
       "       LoanAmount  Loan_Amount_Term  Credit_History  Loan_Status   LoanIndex  \\\n",
       "count  480.000000        480.000000      480.000000   480.000000  480.000000   \n",
       "mean     0.229671          0.689302        0.854167     0.691667    0.036814   \n",
       "std      0.136224          0.146875        0.353307     0.462287    0.048792   \n",
       "min      0.000000          0.000000        0.000000     0.000000    0.000000   \n",
       "25%      0.153976          0.729730        1.000000     0.000000    0.022343   \n",
       "50%      0.201354          0.729730        1.000000     1.000000    0.030637   \n",
       "75%      0.272420          0.729730        1.000000     1.000000    0.044146   \n",
       "max      1.000000          1.000000        1.000000     1.000000    1.000000   \n",
       "\n",
       "       Gender_Female  Gender_Male  Dependents_0  Dependents_1  Dependents_2  \\\n",
       "count     480.000000   480.000000    480.000000    480.000000    480.000000   \n",
       "mean        0.179167     0.820833      0.570833      0.166667      0.177083   \n",
       "std         0.383892     0.383892      0.495474      0.373067      0.382137   \n",
       "min         0.000000     0.000000      0.000000      0.000000      0.000000   \n",
       "25%         0.000000     1.000000      0.000000      0.000000      0.000000   \n",
       "50%         0.000000     1.000000      1.000000      0.000000      0.000000   \n",
       "75%         0.000000     1.000000      1.000000      0.000000      0.000000   \n",
       "max         1.000000     1.000000      1.000000      1.000000      1.000000   \n",
       "\n",
       "       Dependents_3+  Education_Graduate  Education_Not Graduate  \\\n",
       "count     480.000000          480.000000              480.000000   \n",
       "mean        0.085417            0.797917                0.202083   \n",
       "std         0.279792            0.401973                0.401973   \n",
       "min         0.000000            0.000000                0.000000   \n",
       "25%         0.000000            1.000000                0.000000   \n",
       "50%         0.000000            1.000000                0.000000   \n",
       "75%         0.000000            1.000000                0.000000   \n",
       "max         1.000000            1.000000                1.000000   \n",
       "\n",
       "       Property_Area_Rural  Property_Area_Semiurban  Property_Area_Urban  \n",
       "count           480.000000               480.000000           480.000000  \n",
       "mean              0.289583                 0.397917             0.312500  \n",
       "std               0.454042                 0.489979             0.463996  \n",
       "min               0.000000                 0.000000             0.000000  \n",
       "25%               0.000000                 0.000000             0.000000  \n",
       "50%               0.000000                 0.000000             0.000000  \n",
       "75%               1.000000                 1.000000             1.000000  \n",
       "max               1.000000                 1.000000             1.000000  "
      ]
     },
     "execution_count": 118,
     "metadata": {},
     "output_type": "execute_result"
    }
   ],
   "source": [
    "train_clean_encoded_scaled.describe()"
   ]
  },
  {
   "cell_type": "markdown",
   "metadata": {},
   "source": [
    "Finally once we have done our pre-processing of the data, we can split the __training__ data up into a training component and testing component. \n",
    "\n",
    "Yes, Its true that we have testing data already but the real testing data doesnt contain the output value (Loan_Status) so we can't evaluate performance, we can only predict. \n",
    "We make a smaller test dataset from the training data so that we can do that evaluation of the model performance against data it hasn't ever seen before. It is __super__ important that the test data is never used in training.\n",
    "\n",
    "A simple way to think about it is that if we were doing a math test, and the final exam (test data) was just copies of the homework (training data) then every student that has a good memory will be able to repeat the questions and score well. Now if the exam is made of questions that they havent ever seen yet then only the students who actually understood the underlying math will score well. This is what we are trying to accomplish here - to see how well the model has learned what the data means instead of simply learning the data.\n",
    " "
   ]
  },
  {
   "cell_type": "code",
   "execution_count": 120,
   "metadata": {},
   "outputs": [],
   "source": [
    "from sklearn.model_selection import train_test_split\n",
    "\n",
    "features = list(train_clean_encoded.columns)\n",
    "features.remove('Loan_ID')\n",
    "features.remove('Loan_Status')\n",
    "\n",
    "X = train_clean_encoded_scaled[features]\n",
    "y = train_clean_encoded_scaled['Loan_Status']\n",
    "\n",
    "Xtrain, Xtest, ytrain, ytest = train_test_split(X,y, train_size=0.8, random_state=seed)"
   ]
  },
  {
   "cell_type": "markdown",
   "metadata": {},
   "source": [
    "## TRAINING & CLASSIFICATION"
   ]
  },
  {
   "cell_type": "code",
   "execution_count": 121,
   "metadata": {},
   "outputs": [],
   "source": [
    "from sklearn.model_selection import StratifiedKFold, GridSearchCV\n",
    "from sklearn.metrics import confusion_matrix, accuracy_score, f1_score"
   ]
  },
  {
   "cell_type": "markdown",
   "metadata": {},
   "source": [
    "\"The fun part\"\n",
    "This is where we actually get to build our prediction models. In this walkthrough we are using just a couple of the more generic types of models.\n",
    "1. Decision Tree     \n",
    "2. K Nearerst Neighbour    \n",
    "3. Logistic Regression\n",
    "4. Random Forrest"
   ]
  },
  {
   "cell_type": "markdown",
   "metadata": {},
   "source": [
    "### 1. Decision Tree"
   ]
  },
  {
   "cell_type": "markdown",
   "metadata": {},
   "source": [
    "The decision tree is one of the first classification models anyone starting out in data science will learn. \n",
    "While it doesn't have the flashy appeal when compared to the umbrella term \"Deep Learning\" it is a very powerful model with a very small memory footprint and low computational load.\n",
    "The decision tree works by making a series of splits to the data to try and make each \"leaf\" of the tree contain only one class/prediction.\n",
    "\n",
    "Your take away task will be to find out  how the decision tree decides on what split to do next.\n",
    "\n",
    "![title](images/decisiontree-image.png)"
   ]
  },
  {
   "cell_type": "code",
   "execution_count": 122,
   "metadata": {},
   "outputs": [
    {
     "name": "stdout",
     "output_type": "stream",
     "text": [
      "Best score: 0.8075573549257762\n",
      "Best parameters: {'criterion': 'gini', 'max_depth': 4, 'max_features': 9, 'min_samples_split': 2, 'splitter': 'best'}\n",
      "Best classifier: DecisionTreeClassifier(max_depth=4, max_features=9, random_state=23)\n"
     ]
    }
   ],
   "source": [
    "from sklearn.tree import DecisionTreeClassifier\n",
    "\n",
    "decisionTree = DecisionTreeClassifier(random_state=seed)\n",
    "\n",
    "params = {'criterion': ['gini', 'entropy'],\n",
    "          'splitter': ['best', 'random'],\n",
    "          'max_depth': [3, 4, 5, 6],\n",
    "          'max_features': [9, 10, 11, 12,13, 14],\n",
    "          'min_samples_split': [2, 4, 6, 8]}\n",
    "\n",
    "cross_validation = StratifiedKFold(n_splits=10, random_state=seed, shuffle=True)\n",
    "\n",
    "gridSearch = GridSearchCV(decisionTree, param_grid=params, cv=cross_validation)\n",
    "\n",
    "gridSearch.fit(Xtrain, ytrain)\n",
    "\n",
    "decisionTree = gridSearch.best_estimator_\n",
    "\n",
    "print('Best score: {}'.format(gridSearch.best_score_))\n",
    "print('Best parameters: {}'.format(gridSearch.best_params_))\n",
    "print('Best classifier: {}'.format(decisionTree))"
   ]
  },
  {
   "cell_type": "code",
   "execution_count": 123,
   "metadata": {},
   "outputs": [
    {
     "name": "stdout",
     "output_type": "stream",
     "text": [
      "Accuracy :  0.7708333333333334\n",
      "F1 Score:  0.8333333333333333\n"
     ]
    },
    {
     "data": {
      "image/png": "[encoded data removed]",
      "text/plain": [
       "<Figure size 432x288 with 2 Axes>"
      ]
     },
     "metadata": {
      "needs_background": "light"
     },
     "output_type": "display_data"
    }
   ],
   "source": [
    "decision_accuracy = decisionTree.score(Xtest, ytest)\n",
    "print(\"Accuracy : \", decision_accuracy)\n",
    "yPred = decisionTree.predict(Xtest)\n",
    "\n",
    "cm = confusion_matrix(ytest, yPred)\n",
    "decision_f1 = f1_score(ytest,yPred)\n",
    "print(\"F1 Score: \" , decision_f1)\n",
    "\n",
    "# scores.append([\"Decision Tree\", decision_accuracy, decision_f1])\n",
    "\n",
    "\n",
    "axis = ['Negative', 'Positive']\n",
    "data_cm = pd.DataFrame(cm, columns=axis, index=axis)\n",
    "\n",
    "sb.heatmap(data_cm, annot=True, fmt='g', cmap='Blues', annot_kws={\"size\": 15})\n",
    "plt.title('Confusion Matrix', fontsize=30)\n",
    "plt.xlabel('Actual', fontsize=15)\n",
    "plt.xticks(fontsize=13)\n",
    "plt.ylabel('Predicted', fontsize=15)\n",
    "plt.yticks(fontsize=13)\n",
    "plt.show()"
   ]
  },
  {
   "cell_type": "markdown",
   "metadata": {},
   "source": [
    "### 2. K-Nearest Neighbours"
   ]
  },
  {
   "cell_type": "markdown",
   "metadata": {},
   "source": [
    "The K-Nearest Neighbour algorithm is a really intuitively simple algorithm to understand while still being really powerful classifier.\n",
    "It classifies any new entry by taking the median value of the surround K data points around it.\n",
    "\n",
    "Your challenge is to go away and find out what the difference between the KNN algorithm and K-means clustering algorithm is.\n",
    "\n",
    "![title](images/knn-image.png)"
   ]
  },
  {
   "cell_type": "code",
   "execution_count": 124,
   "metadata": {},
   "outputs": [
    {
     "name": "stdout",
     "output_type": "stream",
     "text": [
      "Best score: 0.7395411605937923\n",
      "Best parameters: {'algorithm': 'brute', 'n_neighbors': 3, 'p': 1}\n",
      "Best classifier: KNeighborsClassifier(algorithm='brute', n_neighbors=3, p=1)\n"
     ]
    }
   ],
   "source": [
    "from sklearn.neighbors import KNeighborsClassifier\n",
    "\n",
    "knn = KNeighborsClassifier()\n",
    "\n",
    "params = {'n_neighbors' : [3,4,5,6,7,8,9,10], \n",
    "          'algorithm': ['brute', 'ball_tree', 'kd_tree'], \n",
    "          'p' : [1,2,3]}\n",
    "\n",
    "cross_validation = StratifiedKFold(n_splits=10, random_state=seed, shuffle=True)\n",
    "\n",
    "gridSearch = GridSearchCV(knn, param_grid=params, cv=cross_validation)\n",
    "\n",
    "gridSearch.fit(Xtrain, ytrain)\n",
    "\n",
    "knn = gridSearch.best_estimator_\n",
    "\n",
    "print('Best score: {}'.format(gridSearch.best_score_))\n",
    "print('Best parameters: {}'.format(gridSearch.best_params_))\n",
    "print('Best classifier: {}'.format(knn))"
   ]
  },
  {
   "cell_type": "code",
   "execution_count": 125,
   "metadata": {},
   "outputs": [
    {
     "name": "stdout",
     "output_type": "stream",
     "text": [
      "Accuracy :  0.6979166666666666\n",
      "F1 Score :  0.7913669064748201\n"
     ]
    },
    {
     "data": {
      "image/png": "[encoded data removed]",
      "text/plain": [
       "<Figure size 432x288 with 2 Axes>"
      ]
     },
     "metadata": {
      "needs_background": "light"
     },
     "output_type": "display_data"
    }
   ],
   "source": [
    "knn_accuracy = knn.score(Xtest, ytest)\n",
    "print(\"Accuracy : \", knn_accuracy)\n",
    "yPred = knn.predict(Xtest)\n",
    "\n",
    "# Calculate the confusion matrix\n",
    "cm = confusion_matrix(ytest, yPred)\n",
    "knn_f1 = f1_score(ytest,yPred)\n",
    "print(\"F1 Score : \", knn_f1)\n",
    "\n",
    "# scores.append([\"KNN\", knn_accuracy, knn_f1])\n",
    "\n",
    "\n",
    "axis = ['Negative', 'Positive']\n",
    "data_cm = pd.DataFrame(cm, columns=axis, index=axis)\n",
    "\n",
    "sb.heatmap(data_cm, annot=True, fmt='g', cmap='Blues', annot_kws={\"size\": 12})\n",
    "plt.title('Confusion Matrix', fontsize=30)\n",
    "plt.xlabel('Actual', fontsize=15)\n",
    "plt.xticks(fontsize=13)\n",
    "plt.ylabel('Predicted', fontsize=15)\n",
    "plt.yticks(fontsize=13)\n",
    "plt.show()"
   ]
  },
  {
   "cell_type": "markdown",
   "metadata": {},
   "source": [
    "### 3. Logistic Regression"
   ]
  },
  {
   "cell_type": "markdown",
   "metadata": {},
   "source": [
    "Logistic Regression is not as intuitively easy to understand compared to the prior two classification algorithm. It relies on trying to \"find\" a set of parameters to a mathematical function that maximises the purity of the loan status on either side of the line.\n",
    "\n",
    "Your challenge is to find out what linear regression is and how it is different to logistic regression.\n",
    "\n",
    "![title](images/logisticregression.jpg)"
   ]
  },
  {
   "cell_type": "code",
   "execution_count": 126,
   "metadata": {},
   "outputs": [
    {
     "name": "stderr",
     "output_type": "stream",
     "text": [
      "/home/crhind/.virtualenvs/intern-nb/lib/python3.6/site-packages/sklearn/linear_model/_logistic.py:764: ConvergenceWarning: lbfgs failed to converge (status=1):\n",
      "STOP: TOTAL NO. of ITERATIONS REACHED LIMIT.\n",
      "\n",
      "Increase the number of iterations (max_iter) or scale the data as shown in:\n",
      "    https://scikit-learn.org/stable/modules/preprocessing.html\n",
      "Please also refer to the documentation for alternative solver options:\n",
      "    https://scikit-learn.org/stable/modules/linear_model.html#logistic-regression\n",
      "  extra_warning_msg=_LOGISTIC_SOLVER_CONVERGENCE_MSG)\n",
      "/home/crhind/.virtualenvs/intern-nb/lib/python3.6/site-packages/sklearn/linear_model/_logistic.py:764: ConvergenceWarning: lbfgs failed to converge (status=1):\n",
      "STOP: TOTAL NO. of ITERATIONS REACHED LIMIT.\n",
      "\n",
      "Increase the number of iterations (max_iter) or scale the data as shown in:\n",
      "    https://scikit-learn.org/stable/modules/preprocessing.html\n",
      "Please also refer to the documentation for alternative solver options:\n",
      "    https://scikit-learn.org/stable/modules/linear_model.html#logistic-regression\n",
      "  extra_warning_msg=_LOGISTIC_SOLVER_CONVERGENCE_MSG)\n",
      "/home/crhind/.virtualenvs/intern-nb/lib/python3.6/site-packages/sklearn/linear_model/_logistic.py:764: ConvergenceWarning: lbfgs failed to converge (status=1):\n",
      "STOP: TOTAL NO. of ITERATIONS REACHED LIMIT.\n",
      "\n",
      "Increase the number of iterations (max_iter) or scale the data as shown in:\n",
      "    https://scikit-learn.org/stable/modules/preprocessing.html\n",
      "Please also refer to the documentation for alternative solver options:\n",
      "    https://scikit-learn.org/stable/modules/linear_model.html#logistic-regression\n",
      "  extra_warning_msg=_LOGISTIC_SOLVER_CONVERGENCE_MSG)\n",
      "/home/crhind/.virtualenvs/intern-nb/lib/python3.6/site-packages/sklearn/linear_model/_logistic.py:764: ConvergenceWarning: lbfgs failed to converge (status=1):\n",
      "STOP: TOTAL NO. of ITERATIONS REACHED LIMIT.\n",
      "\n",
      "Increase the number of iterations (max_iter) or scale the data as shown in:\n",
      "    https://scikit-learn.org/stable/modules/preprocessing.html\n",
      "Please also refer to the documentation for alternative solver options:\n",
      "    https://scikit-learn.org/stable/modules/linear_model.html#logistic-regression\n",
      "  extra_warning_msg=_LOGISTIC_SOLVER_CONVERGENCE_MSG)\n",
      "/home/crhind/.virtualenvs/intern-nb/lib/python3.6/site-packages/sklearn/linear_model/_logistic.py:764: ConvergenceWarning: lbfgs failed to converge (status=1):\n",
      "STOP: TOTAL NO. of ITERATIONS REACHED LIMIT.\n",
      "\n",
      "Increase the number of iterations (max_iter) or scale the data as shown in:\n",
      "    https://scikit-learn.org/stable/modules/preprocessing.html\n",
      "Please also refer to the documentation for alternative solver options:\n",
      "    https://scikit-learn.org/stable/modules/linear_model.html#logistic-regression\n",
      "  extra_warning_msg=_LOGISTIC_SOLVER_CONVERGENCE_MSG)\n",
      "/home/crhind/.virtualenvs/intern-nb/lib/python3.6/site-packages/sklearn/linear_model/_logistic.py:764: ConvergenceWarning: lbfgs failed to converge (status=1):\n",
      "STOP: TOTAL NO. of ITERATIONS REACHED LIMIT.\n",
      "\n",
      "Increase the number of iterations (max_iter) or scale the data as shown in:\n",
      "    https://scikit-learn.org/stable/modules/preprocessing.html\n",
      "Please also refer to the documentation for alternative solver options:\n",
      "    https://scikit-learn.org/stable/modules/linear_model.html#logistic-regression\n",
      "  extra_warning_msg=_LOGISTIC_SOLVER_CONVERGENCE_MSG)\n",
      "/home/crhind/.virtualenvs/intern-nb/lib/python3.6/site-packages/sklearn/linear_model/_logistic.py:764: ConvergenceWarning: lbfgs failed to converge (status=1):\n",
      "STOP: TOTAL NO. of ITERATIONS REACHED LIMIT.\n",
      "\n",
      "Increase the number of iterations (max_iter) or scale the data as shown in:\n",
      "    https://scikit-learn.org/stable/modules/preprocessing.html\n",
      "Please also refer to the documentation for alternative solver options:\n",
      "    https://scikit-learn.org/stable/modules/linear_model.html#logistic-regression\n",
      "  extra_warning_msg=_LOGISTIC_SOLVER_CONVERGENCE_MSG)\n"
     ]
    },
    {
     "name": "stdout",
     "output_type": "stream",
     "text": [
      "Best score: 0.7997975708502024\n",
      "Best parameters: {'C': 1, 'penalty': 'l2'}\n",
      "Best classifier: LogisticRegression(C=1)\n"
     ]
    },
    {
     "name": "stderr",
     "output_type": "stream",
     "text": [
      "/home/crhind/.virtualenvs/intern-nb/lib/python3.6/site-packages/sklearn/linear_model/_logistic.py:764: ConvergenceWarning: lbfgs failed to converge (status=1):\n",
      "STOP: TOTAL NO. of ITERATIONS REACHED LIMIT.\n",
      "\n",
      "Increase the number of iterations (max_iter) or scale the data as shown in:\n",
      "    https://scikit-learn.org/stable/modules/preprocessing.html\n",
      "Please also refer to the documentation for alternative solver options:\n",
      "    https://scikit-learn.org/stable/modules/linear_model.html#logistic-regression\n",
      "  extra_warning_msg=_LOGISTIC_SOLVER_CONVERGENCE_MSG)\n"
     ]
    }
   ],
   "source": [
    "from sklearn.linear_model import LogisticRegression\n",
    "\n",
    "logReg = LogisticRegression()\n",
    "\n",
    "params = {'penalty': ['l2'],\n",
    "          'C': [1,10,100]}\n",
    "\n",
    "cross_validation = StratifiedKFold(n_splits=10, random_state=seed, shuffle=True)\n",
    "\n",
    "gridSearch = GridSearchCV(logReg, param_grid=params, cv=cross_validation)\n",
    "\n",
    "gridSearch.fit(Xtrain, ytrain)\n",
    "logReg = gridSearch.best_estimator_\n",
    "\n",
    "print('Best score: {}'.format(gridSearch.best_score_))\n",
    "print('Best parameters: {}'.format(gridSearch.best_params_))\n",
    "print('Best classifier: {}'.format(logReg))"
   ]
  },
  {
   "cell_type": "code",
   "execution_count": 127,
   "metadata": {},
   "outputs": [
    {
     "name": "stderr",
     "output_type": "stream",
     "text": [
      "/home/crhind/.virtualenvs/intern-nb/lib/python3.6/site-packages/sklearn/linear_model/_logistic.py:764: ConvergenceWarning: lbfgs failed to converge (status=1):\n",
      "STOP: TOTAL NO. of ITERATIONS REACHED LIMIT.\n",
      "\n",
      "Increase the number of iterations (max_iter) or scale the data as shown in:\n",
      "    https://scikit-learn.org/stable/modules/preprocessing.html\n",
      "Please also refer to the documentation for alternative solver options:\n",
      "    https://scikit-learn.org/stable/modules/linear_model.html#logistic-regression\n",
      "  extra_warning_msg=_LOGISTIC_SOLVER_CONVERGENCE_MSG)\n",
      "/home/crhind/.virtualenvs/intern-nb/lib/python3.6/site-packages/sklearn/linear_model/_logistic.py:764: ConvergenceWarning: lbfgs failed to converge (status=1):\n",
      "STOP: TOTAL NO. of ITERATIONS REACHED LIMIT.\n",
      "\n",
      "Increase the number of iterations (max_iter) or scale the data as shown in:\n",
      "    https://scikit-learn.org/stable/modules/preprocessing.html\n",
      "Please also refer to the documentation for alternative solver options:\n",
      "    https://scikit-learn.org/stable/modules/linear_model.html#logistic-regression\n",
      "  extra_warning_msg=_LOGISTIC_SOLVER_CONVERGENCE_MSG)\n",
      "/home/crhind/.virtualenvs/intern-nb/lib/python3.6/site-packages/sklearn/linear_model/_logistic.py:764: ConvergenceWarning: lbfgs failed to converge (status=1):\n",
      "STOP: TOTAL NO. of ITERATIONS REACHED LIMIT.\n",
      "\n",
      "Increase the number of iterations (max_iter) or scale the data as shown in:\n",
      "    https://scikit-learn.org/stable/modules/preprocessing.html\n",
      "Please also refer to the documentation for alternative solver options:\n",
      "    https://scikit-learn.org/stable/modules/linear_model.html#logistic-regression\n",
      "  extra_warning_msg=_LOGISTIC_SOLVER_CONVERGENCE_MSG)\n",
      "/home/crhind/.virtualenvs/intern-nb/lib/python3.6/site-packages/sklearn/linear_model/_logistic.py:764: ConvergenceWarning: lbfgs failed to converge (status=1):\n",
      "STOP: TOTAL NO. of ITERATIONS REACHED LIMIT.\n",
      "\n",
      "Increase the number of iterations (max_iter) or scale the data as shown in:\n",
      "    https://scikit-learn.org/stable/modules/preprocessing.html\n",
      "Please also refer to the documentation for alternative solver options:\n",
      "    https://scikit-learn.org/stable/modules/linear_model.html#logistic-regression\n",
      "  extra_warning_msg=_LOGISTIC_SOLVER_CONVERGENCE_MSG)\n",
      "/home/crhind/.virtualenvs/intern-nb/lib/python3.6/site-packages/sklearn/linear_model/_logistic.py:764: ConvergenceWarning: lbfgs failed to converge (status=1):\n",
      "STOP: TOTAL NO. of ITERATIONS REACHED LIMIT.\n",
      "\n",
      "Increase the number of iterations (max_iter) or scale the data as shown in:\n",
      "    https://scikit-learn.org/stable/modules/preprocessing.html\n",
      "Please also refer to the documentation for alternative solver options:\n",
      "    https://scikit-learn.org/stable/modules/linear_model.html#logistic-regression\n",
      "  extra_warning_msg=_LOGISTIC_SOLVER_CONVERGENCE_MSG)\n"
     ]
    },
    {
     "name": "stdout",
     "output_type": "stream",
     "text": [
      "Best score: 0.7997975708502024\n",
      "Best parameters: {'C': 1, 'penalty': 'l2'}\n",
      "Best classifier: LogisticRegression(C=1)\n"
     ]
    },
    {
     "name": "stderr",
     "output_type": "stream",
     "text": [
      "/home/crhind/.virtualenvs/intern-nb/lib/python3.6/site-packages/sklearn/linear_model/_logistic.py:764: ConvergenceWarning: lbfgs failed to converge (status=1):\n",
      "STOP: TOTAL NO. of ITERATIONS REACHED LIMIT.\n",
      "\n",
      "Increase the number of iterations (max_iter) or scale the data as shown in:\n",
      "    https://scikit-learn.org/stable/modules/preprocessing.html\n",
      "Please also refer to the documentation for alternative solver options:\n",
      "    https://scikit-learn.org/stable/modules/linear_model.html#logistic-regression\n",
      "  extra_warning_msg=_LOGISTIC_SOLVER_CONVERGENCE_MSG)\n",
      "/home/crhind/.virtualenvs/intern-nb/lib/python3.6/site-packages/sklearn/linear_model/_logistic.py:764: ConvergenceWarning: lbfgs failed to converge (status=1):\n",
      "STOP: TOTAL NO. of ITERATIONS REACHED LIMIT.\n",
      "\n",
      "Increase the number of iterations (max_iter) or scale the data as shown in:\n",
      "    https://scikit-learn.org/stable/modules/preprocessing.html\n",
      "Please also refer to the documentation for alternative solver options:\n",
      "    https://scikit-learn.org/stable/modules/linear_model.html#logistic-regression\n",
      "  extra_warning_msg=_LOGISTIC_SOLVER_CONVERGENCE_MSG)\n",
      "/home/crhind/.virtualenvs/intern-nb/lib/python3.6/site-packages/sklearn/linear_model/_logistic.py:764: ConvergenceWarning: lbfgs failed to converge (status=1):\n",
      "STOP: TOTAL NO. of ITERATIONS REACHED LIMIT.\n",
      "\n",
      "Increase the number of iterations (max_iter) or scale the data as shown in:\n",
      "    https://scikit-learn.org/stable/modules/preprocessing.html\n",
      "Please also refer to the documentation for alternative solver options:\n",
      "    https://scikit-learn.org/stable/modules/linear_model.html#logistic-regression\n",
      "  extra_warning_msg=_LOGISTIC_SOLVER_CONVERGENCE_MSG)\n"
     ]
    }
   ],
   "source": [
    "features_non_zero = np.abs(logReg.coef_) != 0\n",
    "\n",
    "Xtrain_refeatured = Xtrain.iloc[:, features_non_zero.squeeze()]\n",
    "\n",
    "logReg_refeatured = LogisticRegression()\n",
    "\n",
    "gridSearch = GridSearchCV(logReg_refeatured, param_grid=params, cv=cross_validation)\n",
    "\n",
    "gridSearch.fit(Xtrain_refeatured, ytrain)\n",
    "\n",
    "logReg_refeatured = gridSearch.best_estimator_\n",
    "\n",
    "print('Best score: {}'.format(gridSearch.best_score_))\n",
    "print('Best parameters: {}'.format(gridSearch.best_params_))\n",
    "print('Best classifier: {}'.format(logReg_refeatured))"
   ]
  },
  {
   "cell_type": "code",
   "execution_count": 128,
   "metadata": {},
   "outputs": [
    {
     "name": "stdout",
     "output_type": "stream",
     "text": [
      "Accuracy :  0.8229166666666666\n",
      "F1 Score :  0.8759124087591241\n"
     ]
    },
    {
     "data": {
      "image/png": "[encoded data removed]",
      "text/plain": [
       "<Figure size 432x288 with 2 Axes>"
      ]
     },
     "metadata": {
      "needs_background": "light"
     },
     "output_type": "display_data"
    }
   ],
   "source": [
    "Xtest_subset = Xtest.iloc[:, features_non_zero.squeeze()]\n",
    "\n",
    "logReg_refeatured_accuracy = logReg_refeatured.score(Xtest_subset, ytest)\n",
    "print(\"Accuracy : \", logReg_refeatured_accuracy)\n",
    "yPred = logReg_refeatured.predict(Xtest_subset)\n",
    "\n",
    "cm = confusion_matrix(ytest, yPred)\n",
    "logReg_refeatured_f1 = f1_score(ytest,yPred)\n",
    "print(\"F1 Score : \", logReg_refeatured_f1 )\n",
    "\n",
    "# scores.append([\"Logistic Regression - Refeatured\", logReg_refeatured_accuracy, logReg_refeatured_f1])\n",
    "\n",
    "\n",
    "# axis = ['Positive', 'Negative']\n",
    "axis = ['Negative', 'Positive']\n",
    "data_cm = pd.DataFrame(cm, columns=axis, index=axis)\n",
    "\n",
    "sb.heatmap(data_cm, annot=True, fmt='g', cmap='Blues', annot_kws={\"size\": 12})\n",
    "plt.title('Confusion Matrix', fontsize=30)\n",
    "plt.xlabel('Actual', fontsize=15)\n",
    "plt.xticks(fontsize=13)\n",
    "plt.ylabel('Predicted', fontsize=15)\n",
    "plt.yticks(fontsize=13)\n",
    "plt.show()"
   ]
  },
  {
   "cell_type": "markdown",
   "metadata": {},
   "source": [
    "### 4. Random Forrest"
   ]
  },
  {
   "cell_type": "markdown",
   "metadata": {},
   "source": [
    "Random Forrest is a special type of model that is basically made up of decision trees, where each tree votes on what it believes the correct result is and then majority vote is the predicted output. \n",
    "\n",
    "Your task is to either research or rationalise why this type of classifier performs so much better than a decision tree.\n",
    "\n",
    "![title](images/RandomForest-image.png)"
   ]
  },
  {
   "cell_type": "code",
   "execution_count": 129,
   "metadata": {},
   "outputs": [
    {
     "name": "stdout",
     "output_type": "stream",
     "text": [
      "Best score: 0.8205802968960864\n",
      "Best parameters: {'criterion': 'entropy', 'max_features': 'sqrt', 'n_estimators': 30}\n",
      "Best classifier: RandomForestClassifier(criterion='entropy', max_features='sqrt',\n",
      "                       n_estimators=30, random_state=23)\n"
     ]
    }
   ],
   "source": [
    "from sklearn.ensemble import RandomForestClassifier\n",
    "\n",
    "randForrest = RandomForestClassifier(random_state = seed)\n",
    "\n",
    "params = {'n_estimators': [30,40,50,60,70],\n",
    "          'criterion' : ['gini', 'entropy'], \n",
    "          'max_features' : ['sqrt','log2']}\n",
    "\n",
    "cross_validation = StratifiedKFold(n_splits=10, random_state=seed, shuffle=True)\n",
    "\n",
    "gridSearch = GridSearchCV(randForrest, param_grid=params, cv=cross_validation)\n",
    "\n",
    "gridSearch.fit(Xtrain, ytrain)\n",
    "randForrest = gridSearch.best_estimator_\n",
    "\n",
    "print('Best score: {}'.format(gridSearch.best_score_))\n",
    "print('Best parameters: {}'.format(gridSearch.best_params_))\n",
    "print('Best classifier: {}'.format(randForrest))\n",
    "# print('Important features : {}'.format(randForrest.feature_importances_.sort()))"
   ]
  },
  {
   "cell_type": "code",
   "execution_count": 130,
   "metadata": {},
   "outputs": [
    {
     "name": "stdout",
     "output_type": "stream",
     "text": [
      "Accuracy :  0.8125\n",
      "F1 Score :  0.8656716417910448\n"
     ]
    },
    {
     "data": {
      "image/png": "[encoded data removed]",
      "text/plain": [
       "<Figure size 432x288 with 2 Axes>"
      ]
     },
     "metadata": {
      "needs_background": "light"
     },
     "output_type": "display_data"
    }
   ],
   "source": [
    "randForrest_accuracy = randForrest.score(Xtest, ytest)\n",
    "print(\"Accuracy : \", randForrest_accuracy)\n",
    "yPred = randForrest.predict(Xtest)\n",
    "\n",
    "cm = confusion_matrix(ytest, yPred)\n",
    "randForrest_f1 = f1_score(ytest,yPred)\n",
    "print(\"F1 Score : \", randForrest_f1)\n",
    "# scores.append([\"Random Forrest\", randForrest_accuracy, randForrest_f1])\n",
    "\n",
    "axis = ['Negative', 'Positive']\n",
    "data_cm = pd.DataFrame(cm, columns=axis, index=axis)\n",
    "\n",
    "sb.heatmap(data_cm, annot=True, fmt='g', cmap='Blues', annot_kws={\"size\": 12})\n",
    "plt.title('Confusion Matrix', fontsize=30)\n",
    "plt.xlabel('Actual', fontsize=15)\n",
    "plt.xticks(fontsize=13)\n",
    "plt.ylabel('Predicted', fontsize=15)\n",
    "plt.yticks(fontsize=13)\n",
    "plt.show()"
   ]
  },
  {
   "cell_type": "markdown",
   "metadata": {},
   "source": [
    "Your final challenge is to find out what the difference between supervised and unsupervised learning and give one example of where each is used.\n",
    "\n",
    "So in a list your tasks are to:\n",
    "1. Find out  how the decision tree decides on what split to do next.\n",
    "2. Find out what the difference between the KNN algorithm and K-means clustering algorithm is.\n",
    "3. Find out what linear regression is and how it is different to logistic regression.\n",
    "4. Either research or rationalise why this type of classifier generally performs better than a single decision tree.\n",
    "5. Find out what the difference between supervised and unsupervised learning and give one example of where each is used."
   ]
  }
 ],
 "metadata": {
  "kernelspec": {
   "display_name": "Python 3",
   "language": "python",
   "name": "python3"
  },
  "language_info": {
   "codemirror_mode": {
    "name": "ipython",
    "version": 3
   },
   "file_extension": ".py",
   "mimetype": "text/x-python",
   "name": "python",
   "nbconvert_exporter": "python",
   "pygments_lexer": "ipython3",
   "version": "3.6.9"
  }
 },
 "nbformat": 4,
 "nbformat_minor": 4
}
